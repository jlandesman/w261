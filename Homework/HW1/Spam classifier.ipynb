{
 "cells": [
  {
   "cell_type": "code",
   "execution_count": 1,
   "metadata": {
    "collapsed": false
   },
   "outputs": [],
   "source": [
    "#Separate spam and ham\n",
    "spam = []\n",
    "ham = []\n",
    "\n",
    "with open('enronemail_1h.txt', \"r\") as myfile:\n",
    "    for line in myfile:\n",
    "        entry = line.split(\"\\t\")\n",
    "        if entry[1] == '0':\n",
    "            ham.append(entry[2:3])\n",
    "        else:\n",
    "            spam.append(entry[2:3])"
   ]
  },
  {
   "cell_type": "code",
   "execution_count": 2,
   "metadata": {
    "collapsed": false
   },
   "outputs": [],
   "source": [
    "#Create dictionary of counts\n",
    "def create_dics(data):\n",
    "    import string\n",
    "    \n",
    "    data_dict = {}\n",
    "   \n",
    "    for line in data:\n",
    "        words = line[0].strip(string.punctuation).strip(string.digits).lower().split()\n",
    "    \n",
    "        for word in words:\n",
    "        \n",
    "            if word in data_dict.keys():\n",
    "                data_dict[word] += 1\n",
    "            else:\n",
    "                data_dict[word] = 1\n",
    "    \n",
    "    return data_dict"
   ]
  },
  {
   "cell_type": "code",
   "execution_count": 3,
   "metadata": {
    "collapsed": false
   },
   "outputs": [],
   "source": [
    "spam_dict = create_dics(spam)\n",
    "ham_dict = create_dics(ham)"
   ]
  },
  {
   "cell_type": "code",
   "execution_count": 4,
   "metadata": {
    "collapsed": false
   },
   "outputs": [],
   "source": [
    "## divid by lenght of spam and ham\n",
    "import numpy as np\n",
    "for key, value in spam_dict.items():\n",
    "    spam_dict[key] = np.log(float(value)/len(spam))+np.log(float(len(spam))/(len(spam)+len(ham)))\n",
    "    \n",
    "for key, value in ham_dict.items():\n",
    "    ham_dict[key] = np.log(float(value)/len(ham))+np.log(float(len(spam))/(len(spam)+len(ham)))"
   ]
  },
  {
   "cell_type": "code",
   "execution_count": 5,
   "metadata": {
    "collapsed": false
   },
   "outputs": [],
   "source": [
    "import string\n",
    "def classifier(entry):\n",
    "    spam_count = 0\n",
    "    ham_count = 0\n",
    "    smoother = 1\n",
    "    for word in entry[0].strip(string.punctuation).strip(string.digits).lower().split():\n",
    "        #print word\n",
    "        if word not in spam_dict.keys():\n",
    "            spam_count = smoother\n",
    "        else: \n",
    "            spam_count += spam_dict[word]\n",
    "\n",
    "        if word not in ham_dict.keys():\n",
    "            ham_count = smoother\n",
    "\n",
    "        else:\n",
    "            ham_count += ham_dict[word]\n",
    "        \n",
    "    if spam_count < ham_count:\n",
    "        return \"spam!\"\n",
    "    else:\n",
    "        return \"ham!\""
   ]
  },
  {
   "cell_type": "code",
   "execution_count": 6,
   "metadata": {
    "collapsed": false
   },
   "outputs": [
    {
     "data": {
      "text/plain": [
       "['spam!',\n",
       " 'spam!',\n",
       " 'spam!',\n",
       " 'spam!',\n",
       " 'spam!',\n",
       " 'spam!',\n",
       " 'spam!',\n",
       " 'spam!',\n",
       " 'spam!',\n",
       " 'spam!',\n",
       " 'spam!',\n",
       " 'spam!',\n",
       " 'spam!',\n",
       " 'spam!',\n",
       " 'spam!',\n",
       " 'spam!',\n",
       " 'spam!',\n",
       " 'spam!',\n",
       " 'spam!',\n",
       " 'spam!',\n",
       " 'spam!',\n",
       " 'spam!',\n",
       " 'spam!',\n",
       " 'spam!',\n",
       " 'spam!',\n",
       " 'spam!',\n",
       " 'spam!',\n",
       " 'spam!',\n",
       " 'spam!',\n",
       " 'spam!',\n",
       " 'spam!',\n",
       " 'spam!',\n",
       " 'ham!',\n",
       " 'spam!',\n",
       " 'spam!',\n",
       " 'spam!',\n",
       " 'spam!',\n",
       " 'spam!',\n",
       " 'spam!',\n",
       " 'spam!',\n",
       " 'spam!',\n",
       " 'spam!',\n",
       " 'spam!',\n",
       " 'spam!']"
      ]
     },
     "execution_count": 6,
     "metadata": {},
     "output_type": "execute_result"
    }
   ],
   "source": [
    "spam_test = [classifier(spam[i]) for i in range(len(spam))]\n",
    "spam_test"
   ]
  },
  {
   "cell_type": "code",
   "execution_count": 7,
   "metadata": {
    "collapsed": false
   },
   "outputs": [],
   "source": [
    "def create_tokens(line):\n",
    "    token_dict = {}\n",
    "    for word in line.split():\n",
    "        token_dict[word] = 1\n",
    "    return token_dict\n",
    "\n",
    "def count_tokens(data):\n",
    "    final_dict = {}\n",
    "    for key, value in data.items():\n",
    "        final_dict[key] = sum(data[key])\n",
    "    return final_dict"
   ]
  },
  {
   "cell_type": "code",
   "execution_count": 8,
   "metadata": {
    "collapsed": false
   },
   "outputs": [
    {
     "data": {
      "text/plain": [
       "[' fw: this is the solution i mentioned lsc']"
      ]
     },
     "execution_count": 8,
     "metadata": {},
     "output_type": "execute_result"
    }
   ],
   "source": [
    "spam[0]"
   ]
  },
  {
   "cell_type": "code",
   "execution_count": 13,
   "metadata": {
    "collapsed": false
   },
   "outputs": [
    {
     "ename": "AttributeError",
     "evalue": "'list' object has no attribute 'split'",
     "output_type": "error",
     "traceback": [
      "\u001b[1;31m---------------------------------------------------------------------------\u001b[0m",
      "\u001b[1;31mAttributeError\u001b[0m                            Traceback (most recent call last)",
      "\u001b[1;32m<ipython-input-13-8b64f7dc5514>\u001b[0m in \u001b[0;36m<module>\u001b[1;34m()\u001b[0m\n\u001b[1;32m----> 1\u001b[1;33m \u001b[0mreduce\u001b[0m\u001b[1;33m(\u001b[0m\u001b[0mcount_tokens\u001b[0m\u001b[1;33m,\u001b[0m\u001b[0mmap\u001b[0m\u001b[1;33m(\u001b[0m\u001b[0mcreate_tokens\u001b[0m\u001b[1;33m,\u001b[0m \u001b[0mspam\u001b[0m\u001b[1;33m)\u001b[0m\u001b[1;33m)\u001b[0m\u001b[1;33m\u001b[0m\u001b[0m\n\u001b[0m",
      "\u001b[1;32m<ipython-input-7-7e2f8cd64660>\u001b[0m in \u001b[0;36mcreate_tokens\u001b[1;34m(line)\u001b[0m\n\u001b[0;32m      1\u001b[0m \u001b[1;32mdef\u001b[0m \u001b[0mcreate_tokens\u001b[0m\u001b[1;33m(\u001b[0m\u001b[0mline\u001b[0m\u001b[1;33m)\u001b[0m\u001b[1;33m:\u001b[0m\u001b[1;33m\u001b[0m\u001b[0m\n\u001b[0;32m      2\u001b[0m     \u001b[0mtoken_dict\u001b[0m \u001b[1;33m=\u001b[0m \u001b[1;33m{\u001b[0m\u001b[1;33m}\u001b[0m\u001b[1;33m\u001b[0m\u001b[0m\n\u001b[1;32m----> 3\u001b[1;33m     \u001b[1;32mfor\u001b[0m \u001b[0mword\u001b[0m \u001b[1;32min\u001b[0m \u001b[0mline\u001b[0m\u001b[1;33m.\u001b[0m\u001b[0msplit\u001b[0m\u001b[1;33m(\u001b[0m\u001b[1;33m)\u001b[0m\u001b[1;33m:\u001b[0m\u001b[1;33m\u001b[0m\u001b[0m\n\u001b[0m\u001b[0;32m      4\u001b[0m         \u001b[0mtoken_dict\u001b[0m\u001b[1;33m[\u001b[0m\u001b[0mword\u001b[0m\u001b[1;33m]\u001b[0m \u001b[1;33m=\u001b[0m \u001b[1;36m1\u001b[0m\u001b[1;33m\u001b[0m\u001b[0m\n\u001b[0;32m      5\u001b[0m     \u001b[1;32mreturn\u001b[0m \u001b[0mtoken_dict\u001b[0m\u001b[1;33m\u001b[0m\u001b[0m\n",
      "\u001b[1;31mAttributeError\u001b[0m: 'list' object has no attribute 'split'"
     ]
    }
   ],
   "source": [
    "reduce(count_tokens,map(create_tokens, spam))"
   ]
  },
  {
   "cell_type": "code",
   "execution_count": 12,
   "metadata": {
    "collapsed": false
   },
   "outputs": [
    {
     "data": {
      "text/plain": [
       "[[' fw: this is the solution i mentioned lsc'],\n",
       " [' adv: space saving computer to replace that big box on or under your desk!!'],\n",
       " [' advs']]"
      ]
     },
     "execution_count": 12,
     "metadata": {},
     "output_type": "execute_result"
    }
   ],
   "source": [
    "spam[0:3]"
   ]
  },
  {
   "cell_type": "code",
   "execution_count": null,
   "metadata": {
    "collapsed": true
   },
   "outputs": [],
   "source": []
  }
 ],
 "metadata": {
  "anaconda-cloud": {},
  "kernelspec": {
   "display_name": "Python [py27]",
   "language": "python",
   "name": "Python [py27]"
  },
  "language_info": {
   "codemirror_mode": {
    "name": "ipython",
    "version": 2
   },
   "file_extension": ".py",
   "mimetype": "text/x-python",
   "name": "python",
   "nbconvert_exporter": "python",
   "pygments_lexer": "ipython2",
   "version": "2.7.12"
  }
 },
 "nbformat": 4,
 "nbformat_minor": 0
}
