{
 "cells": [
  {
   "cell_type": "code",
   "execution_count": 25,
   "metadata": {
    "collapsed": false
   },
   "outputs": [],
   "source": [
    "#Word count function\n",
    "def count_words(word):\n",
    "    word_count = 0\n",
    "    with open('enronemail_1h.txt', \"r\") as myfile:\n",
    "        for line in myfile:\n",
    "            word_data = line.split(\"\\t\")[2] + line.split(\"\\t\")[3]\n",
    "            if word in word_data:\n",
    "                word_count +=1\n",
    "    print \"The word\", word,\" occurs \", word_count, \" times.\""
   ]
  },
  {
   "cell_type": "code",
   "execution_count": 191,
   "metadata": {
    "collapsed": false
   },
   "outputs": [],
   "source": [
    "#Separate spam and ham\n",
    "spam = []\n",
    "ham = []\n",
    "\n",
    "with open('enronemail_1h.txt', \"r\") as myfile:\n",
    "    for line in myfile:\n",
    "        entry = line.split(\"\\t\")\n",
    "        if entry[1] == '0':\n",
    "            ham.append(entry[2:3])\n",
    "        else:\n",
    "            spam.append(entry[2:3])"
   ]
  },
  {
   "cell_type": "code",
   "execution_count": 207,
   "metadata": {
    "collapsed": false
   },
   "outputs": [],
   "source": [
    "#Create dictionary of counts\n",
    "def create_dics(data):\n",
    "    import string\n",
    "    \n",
    "    data_dict = {}\n",
    "   \n",
    "    for line in data:\n",
    "        words = line[0].strip(string.punctuation).strip(string.digits).lower().split()\n",
    "    \n",
    "        for word in words:\n",
    "        \n",
    "            if word in data_dict.keys():\n",
    "                data_dict[word] += 1\n",
    "            else:\n",
    "                data_dict[word] = 1\n",
    "    \n",
    "    return data_dict"
   ]
  },
  {
   "cell_type": "code",
   "execution_count": 208,
   "metadata": {
    "collapsed": false
   },
   "outputs": [],
   "source": [
    "spam_dict = create_dics(spam)\n",
    "ham_dict = create_dics(ham)"
   ]
  },
  {
   "cell_type": "code",
   "execution_count": 217,
   "metadata": {
    "collapsed": false
   },
   "outputs": [],
   "source": [
    "## divid by lenght of spam and ham\n",
    "import numpy\n",
    "for key, value in spam_dict.items():\n",
    "    spam_dict[key] = np.log(float(value)/len(spam))\n",
    "    \n",
    "for key, value in ham_dict.items():\n",
    "    ham_dict[key] = np.log(float(value)/len(ham))"
   ]
  },
  {
   "cell_type": "code",
   "execution_count": 221,
   "metadata": {
    "collapsed": true
   },
   "outputs": [],
   "source": [
    "test = \"home year are valium commissions encompassing responsibility \""
   ]
  },
  {
   "cell_type": "code",
   "execution_count": 230,
   "metadata": {
    "collapsed": false
   },
   "outputs": [],
   "source": [
    "def classifier(entry):\n",
    "    spam_count = 0\n",
    "    ham_count = 0\n",
    "    smoother = 1\n",
    "    for word in entry.lower().split():\n",
    "        if word not in spam_dict.keys():\n",
    "            spam_count = smoother\n",
    "        else: \n",
    "            spam_count += spam_dict[word]\n",
    "\n",
    "        if word not in ham_dict.keys():\n",
    "            ham_count = smoother\n",
    "\n",
    "        else:\n",
    "            ham_count += ham_dict[word]\n",
    "        \n",
    "    if spam_count > ham_count:\n",
    "        return \"spam!\"\n",
    "    else:\n",
    "        return \"ham!\""
   ]
  },
  {
   "cell_type": "code",
   "execution_count": null,
   "metadata": {
    "collapsed": true
   },
   "outputs": [],
   "source": []
  },
  {
   "cell_type": "code",
   "execution_count": null,
   "metadata": {
    "collapsed": true
   },
   "outputs": [],
   "source": []
  }
 ],
 "metadata": {
  "kernelspec": {
   "display_name": "Python [py27]",
   "language": "python",
   "name": "Python [py27]"
  },
  "language_info": {
   "codemirror_mode": {
    "name": "ipython",
    "version": 2
   },
   "file_extension": ".py",
   "mimetype": "text/x-python",
   "name": "python",
   "nbconvert_exporter": "python",
   "pygments_lexer": "ipython2",
   "version": "2.7.12"
  }
 },
 "nbformat": 4,
 "nbformat_minor": 0
}
